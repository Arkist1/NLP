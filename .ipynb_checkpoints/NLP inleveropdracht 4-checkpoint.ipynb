{
 "cells": [
  {
   "cell_type": "markdown",
   "id": "4ac4fa1d",
   "metadata": {},
   "source": [
    "Opdracht: Inleveropdracht 4: Machine Translation & Document Search \n",
    "Naam: Onno de Jong <br>\n",
    "Studentnummer: 1809878"
   ]
  },
  {
   "cell_type": "code",
   "execution_count": 1,
   "id": "28b610b8",
   "metadata": {},
   "outputs": [],
   "source": [
    "#imports\n",
    "import numpy as np\n",
    "import matplotlib.pyplot as plt\n",
    "import pickle\n",
    "\n",
    "import pandas as pd"
   ]
  },
  {
   "cell_type": "markdown",
   "id": "1d7e9849",
   "metadata": {},
   "source": [
    "Embeddings inladen"
   ]
  },
  {
   "cell_type": "code",
   "execution_count": 2,
   "id": "735310f2",
   "metadata": {},
   "outputs": [],
   "source": [
    "en, fr = pickle.loads(open('en_embeddings.p', 'rb').read()), pickle.loads(open('fr_embeddings.p', 'rb').read())"
   ]
  },
  {
   "cell_type": "markdown",
   "id": "a55ec470",
   "metadata": {},
   "source": [
    "inladen train en test sets"
   ]
  },
  {
   "cell_type": "code",
   "execution_count": 3,
   "id": "8c1c50d6",
   "metadata": {},
   "outputs": [],
   "source": [
    "train = pd.read_csv('en-fr.train.txt',sep=\" \", names=['en', 'fr'])\n",
    "test =  pd.read_csv('en-fr.test.txt',sep=\" \", names=['en', 'fr'])"
   ]
  },
  {
   "cell_type": "code",
   "execution_count": 4,
   "id": "b8e0c213",
   "metadata": {},
   "outputs": [
    {
     "data": {
      "text/html": [
       "<div>\n",
       "<style scoped>\n",
       "    .dataframe tbody tr th:only-of-type {\n",
       "        vertical-align: middle;\n",
       "    }\n",
       "\n",
       "    .dataframe tbody tr th {\n",
       "        vertical-align: top;\n",
       "    }\n",
       "\n",
       "    .dataframe thead th {\n",
       "        text-align: right;\n",
       "    }\n",
       "</style>\n",
       "<table border=\"1\" class=\"dataframe\">\n",
       "  <thead>\n",
       "    <tr style=\"text-align: right;\">\n",
       "      <th></th>\n",
       "      <th>en</th>\n",
       "      <th>fr</th>\n",
       "    </tr>\n",
       "  </thead>\n",
       "  <tbody>\n",
       "    <tr>\n",
       "      <th>5229</th>\n",
       "      <td>formula</td>\n",
       "      <td>formules</td>\n",
       "    </tr>\n",
       "    <tr>\n",
       "      <th>388</th>\n",
       "      <td>best</td>\n",
       "      <td>best</td>\n",
       "    </tr>\n",
       "    <tr>\n",
       "      <th>7363</th>\n",
       "      <td>reputation</td>\n",
       "      <td>notoriété</td>\n",
       "    </tr>\n",
       "    <tr>\n",
       "      <th>8355</th>\n",
       "      <td>solutions</td>\n",
       "      <td>solutions</td>\n",
       "    </tr>\n",
       "    <tr>\n",
       "      <th>5973</th>\n",
       "      <td>generated</td>\n",
       "      <td>généré</td>\n",
       "    </tr>\n",
       "  </tbody>\n",
       "</table>\n",
       "</div>"
      ],
      "text/plain": [
       "              en         fr\n",
       "5229     formula   formules\n",
       "388         best       best\n",
       "7363  reputation  notoriété\n",
       "8355   solutions  solutions\n",
       "5973   generated     généré"
      ]
     },
     "execution_count": 4,
     "metadata": {},
     "output_type": "execute_result"
    }
   ],
   "source": [
    "train.sample(5)"
   ]
  },
  {
   "cell_type": "code",
   "execution_count": 5,
   "id": "3b1cfc30",
   "metadata": {},
   "outputs": [
    {
     "data": {
      "text/html": [
       "<div>\n",
       "<style scoped>\n",
       "    .dataframe tbody tr th:only-of-type {\n",
       "        vertical-align: middle;\n",
       "    }\n",
       "\n",
       "    .dataframe tbody tr th {\n",
       "        vertical-align: top;\n",
       "    }\n",
       "\n",
       "    .dataframe thead th {\n",
       "        text-align: right;\n",
       "    }\n",
       "</style>\n",
       "<table border=\"1\" class=\"dataframe\">\n",
       "  <thead>\n",
       "    <tr style=\"text-align: right;\">\n",
       "      <th></th>\n",
       "      <th>en</th>\n",
       "      <th>fr</th>\n",
       "    </tr>\n",
       "  </thead>\n",
       "  <tbody>\n",
       "    <tr>\n",
       "      <th>330</th>\n",
       "      <td>convert</td>\n",
       "      <td>convertir</td>\n",
       "    </tr>\n",
       "    <tr>\n",
       "      <th>1873</th>\n",
       "      <td>consequence</td>\n",
       "      <td>conséquence</td>\n",
       "    </tr>\n",
       "    <tr>\n",
       "      <th>207</th>\n",
       "      <td>funny</td>\n",
       "      <td>drôle</td>\n",
       "    </tr>\n",
       "    <tr>\n",
       "      <th>576</th>\n",
       "      <td>quarterback</td>\n",
       "      <td>quaterback</td>\n",
       "    </tr>\n",
       "    <tr>\n",
       "      <th>1138</th>\n",
       "      <td>rulers</td>\n",
       "      <td>souverains</td>\n",
       "    </tr>\n",
       "  </tbody>\n",
       "</table>\n",
       "</div>"
      ],
      "text/plain": [
       "               en           fr\n",
       "330       convert    convertir\n",
       "1873  consequence  conséquence\n",
       "207         funny        drôle\n",
       "576   quarterback   quaterback\n",
       "1138       rulers   souverains"
      ]
     },
     "execution_count": 5,
     "metadata": {},
     "output_type": "execute_result"
    }
   ],
   "source": [
    "test.sample(5)"
   ]
  },
  {
   "cell_type": "markdown",
   "id": "25f48731",
   "metadata": {},
   "source": [
    "cleaning van de sets, er zijn een heel aantal worden, vooral bij de franse woorden, die niet in de embeddings zitten, die haal ik er uit omdat ik er geen informatie van weet"
   ]
  },
  {
   "cell_type": "code",
   "execution_count": 6,
   "id": "4a8ed06e",
   "metadata": {},
   "outputs": [
    {
     "data": {
      "text/plain": [
       "0.5275938189845475"
      ]
     },
     "execution_count": 6,
     "metadata": {},
     "output_type": "execute_result"
    }
   ],
   "source": [
    "sum([x in fr.keys() for x in train['fr']]) / len(train)"
   ]
  },
  {
   "cell_type": "code",
   "execution_count": 7,
   "id": "04b0485d",
   "metadata": {},
   "outputs": [
    {
     "data": {
      "text/plain": [
       "0.9908020603384842"
      ]
     },
     "execution_count": 7,
     "metadata": {},
     "output_type": "execute_result"
    }
   ],
   "source": [
    "sum([x in en.keys() for x in train['en']]) / len(train)"
   ]
  },
  {
   "cell_type": "code",
   "execution_count": 8,
   "id": "55a1e33b",
   "metadata": {},
   "outputs": [
    {
     "name": "stdout",
     "output_type": "stream",
     "text": [
      "(10872, 2)\n",
      "(5717, 2)\n"
     ]
    }
   ],
   "source": [
    "print(train.shape)\n",
    "clean_train = train[train['en'].isin(en.keys())]\n",
    "clean_train = clean_train[clean_train['fr'].isin(fr.keys())]\n",
    "print(clean_train.shape)"
   ]
  },
  {
   "cell_type": "code",
   "execution_count": 9,
   "id": "3fddd008",
   "metadata": {},
   "outputs": [
    {
     "name": "stdout",
     "output_type": "stream",
     "text": [
      "(2943, 2)\n",
      "(1542, 2)\n"
     ]
    }
   ],
   "source": [
    "print(test.shape)\n",
    "clean_test = test[test['en'].isin(en.keys())]\n",
    "clean_test = clean_test[clean_test['fr'].isin(fr.keys())]\n",
    "print(clean_test.shape)"
   ]
  },
  {
   "cell_type": "code",
   "execution_count": 10,
   "id": "61b1ba34",
   "metadata": {},
   "outputs": [
    {
     "data": {
      "text/plain": [
       "1.0"
      ]
     },
     "execution_count": 10,
     "metadata": {},
     "output_type": "execute_result"
    }
   ],
   "source": [
    "sum([x in fr.keys() for x in clean_train['fr']]) / len(clean_train)"
   ]
  },
  {
   "cell_type": "code",
   "execution_count": 11,
   "id": "3b65a4fb",
   "metadata": {},
   "outputs": [
    {
     "data": {
      "text/plain": [
       "1.0"
      ]
     },
     "execution_count": 11,
     "metadata": {},
     "output_type": "execute_result"
    }
   ],
   "source": [
    "sum([x in en.keys() for x in clean_train['en']]) / len(clean_train)"
   ]
  },
  {
   "attachments": {
    "image.png": {
     "image/png": "[encoded data removed]"
    }
   },
   "cell_type": "markdown",
   "id": "e26b255b",
   "metadata": {},
   "source": [
    "Frobenius norm <br> \n",
    "![image.png](attachment:image.png)"
   ]
  },
  {
   "cell_type": "code",
   "execution_count": 12,
   "id": "86826373",
   "metadata": {},
   "outputs": [],
   "source": [
    "def frobenius(X):\n",
    "    return np.sqrt(np.sum(X ** 2))"
   ]
  },
  {
   "cell_type": "code",
   "execution_count": 13,
   "id": "684e65cb",
   "metadata": {},
   "outputs": [],
   "source": [
    "x = np.array([[2, 3], [1, 4], [2, 1]])"
   ]
  },
  {
   "cell_type": "code",
   "execution_count": 14,
   "id": "bf921c01",
   "metadata": {},
   "outputs": [
    {
     "data": {
      "text/plain": [
       "array([[2, 3],\n",
       "       [1, 4],\n",
       "       [2, 1]])"
      ]
     },
     "execution_count": 14,
     "metadata": {},
     "output_type": "execute_result"
    }
   ],
   "source": [
    "x"
   ]
  },
  {
   "cell_type": "code",
   "execution_count": 15,
   "id": "099cee06",
   "metadata": {},
   "outputs": [
    {
     "data": {
      "text/plain": [
       "5.916079783099616"
      ]
     },
     "execution_count": 15,
     "metadata": {},
     "output_type": "execute_result"
    }
   ],
   "source": [
    "frobenius(x)"
   ]
  },
  {
   "attachments": {
    "image.png": {
     "image/png": "[encoded data removed]"
    }
   },
   "cell_type": "markdown",
   "id": "eeed43d9",
   "metadata": {},
   "source": [
    "Loss functie <br>\n",
    "![image.png](attachment:image.png)"
   ]
  },
  {
   "cell_type": "code",
   "execution_count": 16,
   "id": "0016613a",
   "metadata": {},
   "outputs": [],
   "source": [
    "def loss(X, Y, R):\n",
    "    return 1/len(X) * (np.dot(X, R) - Y) ** 2"
   ]
  },
  {
   "attachments": {
    "image-2.png": {
     "image/png": "[encoded data removed]"
    }
   },
   "cell_type": "markdown",
   "id": "cfdbd1ac",
   "metadata": {},
   "source": [
    "Gradient\n",
    "![image-2.png](attachment:image-2.png)"
   ]
  },
  {
   "cell_type": "code",
   "execution_count": 41,
   "id": "6c7a28b9",
   "metadata": {},
   "outputs": [],
   "source": [
    "def gradient(X, Y, R):\n",
    "    return 2/X.shape[1] * (np.matmul(X.T, (np.matmul(X, R) - Y)))"
   ]
  },
  {
   "cell_type": "code",
   "execution_count": 42,
   "id": "630722f3",
   "metadata": {},
   "outputs": [],
   "source": [
    "def gradient_descent(x, y, theta, alpha, num_iters):\n",
    "    \"\"\"\n",
    "    eigenlijk een 1 layer neural network\n",
    "    \n",
    "    Input:\n",
    "    x: embeddings van de engelse woorden (m, n)\n",
    "    y: de bijbehorende franse woorden embeddings (m, n)\n",
    "    theta: weights vector, dimensies (n + 1, 1)\n",
    "    alpha: learning rate\n",
    "    num_iters: aantal iterations om het model te trainen\n",
    "    \n",
    "    Output:\n",
    "    J: de laatste loss\n",
    "    theta: de geleerde weights vector\n",
    "    \"\"\"\n",
    "    print(\"x\", x.shape)\n",
    "    print(\"y\", y.shape)\n",
    "    print(\"alpha\", alpha)\n",
    "    print(\"epochs\", num_iters)\n",
    "    \n",
    "    # loop over het aantal epochs heen\n",
    "    for i in range(num_iters):\n",
    "        print(\"theta\", theta.shape)\n",
    "        # hier rekenen we de loss van het netwerk uit, we gebruiken dit verder niet het is alleen om te zien hoe goed het\n",
    "        # model getrained is\n",
    "        J = loss(x, y, theta)\n",
    "        \n",
    "        # het leren van de samples, learning rate / N samples * input * errors\n",
    "        theta = theta - alpha * gradient(x, y, theta)\n",
    "        \n",
    "    return [J, theta]"
   ]
  },
  {
   "cell_type": "code",
   "execution_count": 43,
   "id": "15b67e9a",
   "metadata": {},
   "outputs": [],
   "source": [
    "def get_embeddings(n, tset):\n",
    "    res = []\n",
    "    for en_word, fr_word in tset[['en', 'fr']].values[:n]:\n",
    "        res.append([en[en_word], fr[fr_word]])\n",
    "        \n",
    "    return np.array(res)"
   ]
  },
  {
   "cell_type": "code",
   "execution_count": 44,
   "id": "d334cd44",
   "metadata": {
    "scrolled": true
   },
   "outputs": [],
   "source": [
    "t = get_embeddings(20, clean_train)"
   ]
  },
  {
   "cell_type": "code",
   "execution_count": 45,
   "id": "59efb7e8",
   "metadata": {},
   "outputs": [
    {
     "data": {
      "text/plain": [
       "(20, 300)"
      ]
     },
     "execution_count": 45,
     "metadata": {},
     "output_type": "execute_result"
    }
   ],
   "source": [
    "t[:, 0].shape"
   ]
  },
  {
   "cell_type": "code",
   "execution_count": 46,
   "id": "233c2506",
   "metadata": {},
   "outputs": [
    {
     "name": "stdout",
     "output_type": "stream",
     "text": [
      "x (20, 300)\n",
      "y (20, 300)\n",
      "theta (300, 1)\n",
      "alpha 0.8\n",
      "epochs 1\n",
      "[[1.91116541e-06 4.45442480e-08 3.89533768e-06 ... 6.23219135e-04\n",
      "  1.26989864e-04 1.82058449e-04]\n",
      " [5.82612809e-05 8.99473630e-05 2.15746983e-04 ... 1.45795683e-04\n",
      "  6.88564884e-05 9.40040540e-05]\n",
      " [9.09430190e-05 7.82825233e-05 3.40876231e-06 ... 4.35889393e-05\n",
      "  2.54484784e-04 1.96189718e-04]\n",
      " ...\n",
      " [6.73738670e-05 1.74023177e-05 4.32682521e-04 ... 1.73279604e-05\n",
      "  1.76735327e-06 7.15796542e-05]\n",
      " [2.45882094e-04 3.30175619e-05 6.98124694e-04 ... 1.04890239e-03\n",
      "  2.53766642e-05 1.13019218e-04]\n",
      " [3.09019854e-04 9.10885127e-05 8.17690345e-04 ... 3.52567338e-04\n",
      "  1.67481559e-04 1.42728091e-06]]\n",
      "(20, 1)\n",
      "(20, 300)\n",
      "(300, 20)\n",
      "(20, 20)\n"
     ]
    },
    {
     "data": {
      "text/plain": [
       "[array([[1.91116541e-06, 4.45442480e-08, 3.89533768e-06, ...,\n",
       "         6.23219135e-04, 1.26989864e-04, 1.82058449e-04],\n",
       "        [5.82612809e-05, 8.99473630e-05, 2.15746983e-04, ...,\n",
       "         1.45795683e-04, 6.88564884e-05, 9.40040540e-05],\n",
       "        [9.09430190e-05, 7.82825233e-05, 3.40876231e-06, ...,\n",
       "         4.35889393e-05, 2.54484784e-04, 1.96189718e-04],\n",
       "        ...,\n",
       "        [6.73738670e-05, 1.74023177e-05, 4.32682521e-04, ...,\n",
       "         1.73279604e-05, 1.76735327e-06, 7.15796542e-05],\n",
       "        [2.45882094e-04, 3.30175619e-05, 6.98124694e-04, ...,\n",
       "         1.04890239e-03, 2.53766642e-05, 1.13019218e-04],\n",
       "        [3.09019854e-04, 9.10885127e-05, 8.17690345e-04, ...,\n",
       "         3.52567338e-04, 1.67481559e-04, 1.42728091e-06]]),\n",
       " array([[-1.40995992e-04,  3.85690996e-05,  2.32486647e-04, ...,\n",
       "          1.06944806e-04,  3.12066686e-05,  2.10444533e-04],\n",
       "        [-2.12601004e-05, -9.93641158e-05, -8.04141794e-05, ...,\n",
       "          2.31001950e-04,  9.76180266e-05,  1.10839471e-04],\n",
       "        [-9.86262383e-05,  5.43201534e-05, -1.99173849e-04, ...,\n",
       "         -2.56321129e-05,  1.07587370e-04, -7.93135288e-05],\n",
       "        ...,\n",
       "        [-4.69207968e-05,  1.30794049e-04,  4.08611229e-04, ...,\n",
       "         -1.98470668e-04, -1.83143112e-04,  3.89831210e-05],\n",
       "        [-5.70893586e-05, -8.67341270e-05, -5.60672352e-04, ...,\n",
       "          1.14587093e-04,  3.38540752e-04, -2.10387464e-04],\n",
       "        [ 3.20662467e-04,  4.10837084e-05,  3.30518781e-04, ...,\n",
       "         -4.99280302e-04, -4.59345434e-04,  2.34048638e-05]])]"
      ]
     },
     "execution_count": 46,
     "metadata": {},
     "output_type": "execute_result"
    }
   ],
   "source": [
    "gradient_descent(t[:, 0], t[:, 1], np.zeros([300, 1]), .8, 4)"
   ]
  },
  {
   "cell_type": "code",
   "execution_count": null,
   "id": "507f11c3",
   "metadata": {},
   "outputs": [],
   "source": [
    "t.shape"
   ]
  },
  {
   "cell_type": "code",
   "execution_count": null,
   "id": "5b7b1731",
   "metadata": {},
   "outputs": [],
   "source": [
    "np.c_[np.ones([20, 1]), t[:, 1]]"
   ]
  },
  {
   "cell_type": "code",
   "execution_count": null,
   "id": "f1cdae1d",
   "metadata": {},
   "outputs": [],
   "source": []
  }
 ],
 "metadata": {
  "kernelspec": {
   "display_name": "Python 3 (ipykernel)",
   "language": "python",
   "name": "python3"
  },
  "language_info": {
   "codemirror_mode": {
    "name": "ipython",
    "version": 3
   },
   "file_extension": ".py",
   "mimetype": "text/x-python",
   "name": "python",
   "nbconvert_exporter": "python",
   "pygments_lexer": "ipython3",
   "version": "3.11.0"
  }
 },
 "nbformat": 4,
 "nbformat_minor": 5
}
